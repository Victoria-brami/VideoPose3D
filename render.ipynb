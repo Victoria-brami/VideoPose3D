{
 "cells": [
  {
   "cell_type": "markdown",
   "metadata": {},
   "source": [
    "# VideoPose Visualization"
   ]
  },
  {
   "cell_type": "markdown",
   "metadata": {},
   "source": [
    "### Basic Imports"
   ]
  },
  {
   "cell_type": "code",
   "execution_count": 1,
   "metadata": {},
   "outputs": [],
   "source": [
    "import matplotlib\n",
    "matplotlib.use('TKAgg')\n",
    "\n",
    "import numpy as np\n",
    "import matplotlib.pyplot as plt\n",
    "from common.visualization import render_animation\n",
    "from common.generators import ChunkedGenerator, UnchunkedGenerator\n",
    "from common.camera import *\n",
    "from common.model import *\n",
    "from common.loss import *\n",
    "from common.skeleton import Skeleton\n",
    "import os\n",
    "import json\n",
    "\n",
    "import matplotlib.pyplot as plt\n",
    "from matplotlib.animation import FuncAnimation, writers\n",
    "from mpl_toolkits.mplot3d import Axes3D\n",
    "import subprocess as sp"
   ]
  },
  {
   "cell_type": "code",
   "execution_count": 2,
   "metadata": {},
   "outputs": [],
   "source": [
    "def read_json(filename, datapath=\"/datasets_local/DriveAndAct\"):\n",
    "    try:\n",
    "        if filename.endswith(\"json\"):\n",
    "            data = json.load(open(os.path.join(datapath, filename), \"r\"))\n",
    "        else:\n",
    "            data = np.load(os.path.join(datapath, filename), allow_pickle=True)\n",
    "        return data\n",
    "    except TypeError:\n",
    "        \" You are trying to load a wrong type of file (Must be JSON or NPZ)\""
   ]
  },
  {
   "cell_type": "code",
   "execution_count": 13,
   "metadata": {},
   "outputs": [],
   "source": [
    "from matplotlib.pyplot import colorbar\n",
    "\n",
    "\n",
    "def downsample_tensor(X, factor):\n",
    "    length = X.shape[0]//factor * factor\n",
    "    return np.mean(X[:length].reshape(-1, factor, *X.shape[1:]), axis=1)\n",
    "\n",
    "def render_animation(keypoints_2d, poses_3d, images, skeleton, \n",
    "                     output='output.mp4',\n",
    "                     datapath='/datasets_local/DriveAndAct', \n",
    "                     skip=0, fps=30, downsample=3, size=6, azim=180, bitrate=-1, limit=1000, elev=10):\n",
    "    \"\"\"_summary_\n",
    "\n",
    "    Args:\n",
    "        keypoints_2d (_type_): _description_\n",
    "        poses_3d (_type_): _description_\n",
    "        images (list): list of images names\n",
    "        skeleton (Skeleton): skeleton attributes\n",
    "        output (str, optional): _description_. Defaults to 'output.mp4'.\n",
    "        datapath (str, optional): path to dataset folder. Defaults to '/datasets_local/DriveAndAct'.\n",
    "        skip (int, optional): _description_. Defaults to 0.\n",
    "        fps (int, optional): _description_. Defaults to 30.\n",
    "        downsample (int, optional): decreasing factor for video speed   . Defaults to 3.\n",
    "        size (int, optional): _description_. Defaults to 6.\n",
    "        azim (int, optional): _description_. Defaults to 180.\n",
    "\n",
    "    Raises:\n",
    "        ValueError: _description_\n",
    "    \"\"\"\n",
    "    plt.ioff()\n",
    "    fig = plt.figure(figsize=(size*(1 + len(poses_3d)), size))\n",
    "    ax_in = fig.add_subplot(1, 1 + len(poses_3d), 1)\n",
    "    ax_in.get_xaxis().set_visible(False)\n",
    "    ax_in.get_yaxis().set_visible(False)\n",
    "    ax_in.set_axis_off()\n",
    "    ax_in.set_title('Input')\n",
    "\n",
    "    ax_3d = []\n",
    "    lines_3d = []\n",
    "    trajectories = []\n",
    "    all_frames = []\n",
    "    radius = 1.7\n",
    "    # for index, (data) in enumerate(poses_3d[0]): #.items()\n",
    "    ax = fig.add_subplot(1, 1 + len(poses_3d), 2, projection='3d')\n",
    "    ax.view_init(elev=elev, azim=azim)\n",
    "    ax.set_xlim3d([-radius/2, radius/2])\n",
    "    ax.set_ylim3d([0, radius])\n",
    "    ax.set_zlim3d([-radius/2, radius/2])\n",
    "    try:\n",
    "        ax.set_aspect('equal')\n",
    "    except NotImplementedError:\n",
    "        ax.set_aspect('auto')\n",
    "    ax.set_xticklabels([])\n",
    "    ax.set_yticklabels([])\n",
    "    ax.set_zticklabels([])\n",
    "    ax.dist = 7.5\n",
    "    ax.set_title(\"Ground truth\") #, pad=35\n",
    "    ax_3d.append(ax)\n",
    "    lines_3d.append([])\n",
    "    for index in range(min(limit, len(poses_3d[0]))):\n",
    "        all_frames.append(plt.imread(os.path.join(datapath, images[index])))\n",
    "        # trajectories.append(data[:, 0, [0, 1]])\n",
    "    # poses_3d = list(poses_3d.values())\n",
    "    poses_3d = list(poses_3d)\n",
    "    print(\"frames length: \", np.array(all_frames).shape, len(all_frames), all_frames[0].shape)\n",
    "  \n",
    "    keypoints = keypoints_2d\n",
    "    \n",
    "    if downsample > 1:\n",
    "        keypoints = downsample_tensor(keypoints_2d, downsample)\n",
    "        all_frames = downsample_tensor(np.array(all_frames), downsample).astype('uint8')\n",
    "        for idx in range(len(poses_3d[0])):\n",
    "            poses_3d[0][idx] = downsample_tensor(poses_3d[0][idx], downsample)\n",
    "            # trajectories[idx] = downsample_tensor(trajectories[idx], downsample)\n",
    "        fps /= downsample\n",
    "        \n",
    "        \n",
    "    initialized = False\n",
    "    image = None\n",
    "    lines = []\n",
    "    points = None\n",
    "    print()\n",
    "    \n",
    "    if limit < 1:\n",
    "        limit = len(all_frames)\n",
    "    else:\n",
    "        limit = min(limit, len(all_frames))\n",
    "        \n",
    "    parents = skeleton.parents()\n",
    "    def update_video(i):\n",
    "        nonlocal initialized, image, lines, points\n",
    "\n",
    "        \"\"\"\n",
    "        for n, ax in enumerate(ax_3d):\n",
    "            ax.set_xlim3d([-radius/2 + trajectories[n][i, 0], radius/2 + trajectories[n][i, 0]])\n",
    "            ax.set_ylim3d([-radius/2 + trajectories[n][i, 1], radius/2 + trajectories[n][i, 1]])\n",
    "        \"\"\"\n",
    "        # Update 2D poses\n",
    "        joints_right_2d = [2, 4, 6, 8, 10, 12, 14, 16]\n",
    "        colors_2d = np.full(keypoints.shape[1], 'black')\n",
    "        colors_2d[joints_right_2d] = 'red'\n",
    "        if not initialized:\n",
    "            image = ax_in.imshow(all_frames[i], aspect='equal')\n",
    "            \n",
    "            for j, j_parent in enumerate(parents):\n",
    "                if j_parent == -1:\n",
    "                    continue\n",
    "                    \n",
    "                if len(parents) == keypoints.shape[1]:\n",
    "                    # Draw skeleton only if keypoints match (otherwise we don't have the parents definition)\n",
    "                    if keypoints[i, j, 2] != 0 and keypoints[i, j_parent, 2] != 0 :\n",
    "                        lines.append(ax_in.plot([keypoints[i, j, 0], keypoints[i, j_parent, 0]],\n",
    "                                                [keypoints[i, j, 1], keypoints[i, j_parent, 1]], color='pink'))\n",
    "                    else:\n",
    "                        lines.append(ax_in.plot([0, 0],\n",
    "                                                [0, 0], color='pink'))\n",
    "                col = 'red' if j in skeleton.joints_right() else 'black'\n",
    "                # for n, ax in enumerate(ax_3d):\n",
    "                n = 0\n",
    "                pos = poses_3d[n][i]\n",
    "                if keypoints[i, j, 2] != 0 and keypoints[i, j_parent, 2] != 0 :\n",
    "                    lines_3d[n].append(ax.plot([pos[j, 0], pos[j_parent, 0]],\n",
    "                                               [-pos[j, 1], -pos[j_parent, 1]],\n",
    "                                               [pos[j, 2], pos[j_parent, 2]], zdir='y', color=col))\n",
    "                else:\n",
    "                    lines_3d[n].append(ax.plot([0, 0], [0, 0], [0, 0], zdir='y', color=\"white\"))\n",
    "\n",
    "            if keypoints[i, 11, 2] != 0 and keypoints[i, 12, 2] != 0 :\n",
    "                col = \"blue\"\n",
    "            else:\n",
    "                col = \"white\"\n",
    "            extra_parent = 12\n",
    "            lines.append(ax_in.plot([keypoints[i, 11, 0], keypoints[i, 12, 0]],\n",
    "                                            [keypoints[i, 11, 1], keypoints[i, 12, 1]], color=col))\n",
    "            lines_3d[n].append(ax.plot([pos[11, 0], pos[extra_parent, 0]],\n",
    "                                        [-pos[11, 1], -pos[extra_parent, 1]],\n",
    "                                        [pos[11, 2], pos[extra_parent, 2]], zdir='y', color=col))\n",
    "            if keypoints[i, 5, 2] != 0 and keypoints[i, 6, 2] != 0 :\n",
    "                col = \"blue\"\n",
    "            else:\n",
    "                col = \"white\"\n",
    "            extra_parent = 6\n",
    "            lines.append(ax_in.plot([keypoints[i, 5, 0], keypoints[i, 6, 0]],\n",
    "                                            [keypoints[i, 5, 1], keypoints[i, 6, 1]], color=col))\n",
    "            lines_3d[n].append(ax.plot([pos[5, 0], pos[extra_parent, 0]],\n",
    "                                        [-pos[5, 1], -pos[extra_parent, 1]],\n",
    "                                        [pos[5, 2], pos[extra_parent, 2]], zdir='y', color=col))\n",
    "            \n",
    "                \n",
    "                \n",
    "            \n",
    "            points = ax_in.scatter(*keypoints[i, :, :2].T, 10, color=colors_2d, edgecolors='white', zorder=10) # replaced colors_2d\n",
    "\n",
    "            initialized = True\n",
    "\n",
    "        else:\n",
    "            \n",
    "            image.set_data(all_frames[i])\n",
    "\n",
    "            for j, j_parent in enumerate(parents):\n",
    "                if j_parent == -1:\n",
    "                    continue\n",
    "                \n",
    "                if len(parents) == keypoints.shape[1]:\n",
    "                    lines[j-1][0].set_color('pink')\n",
    "                    if keypoints[i, j, 2] != 0 and keypoints[i, j_parent, 2] != 0 :\n",
    "                        lines[j-1][0].set_data([keypoints[i, j, 0], keypoints[i, j_parent, 0]],\n",
    "                                            [keypoints[i, j, 1], keypoints[i, j_parent, 1]])\n",
    "                        \n",
    "                    else:\n",
    "                        lines[j-1][0].set_color('white')\n",
    "                        lines[j-1][0].set_data([0, 0], [0, 0])\n",
    "                        \n",
    "\n",
    "                # for n, ax in enumerate(ax_3d):\n",
    "                n = 0\n",
    "                pos = poses_3d[0][i]\n",
    "                if keypoints[i, j, 2] != 0 and keypoints[i, j_parent, 2] != 0 :\n",
    "                    lines_3d[n][j-1][0].set_color(colors_2d[j-1])\n",
    "                    lines_3d[n][j-1][0].set_xdata(np.array([pos[j, 0], pos[j_parent, 0]]))\n",
    "                    lines_3d[n][j-1][0].set_ydata(-np.array([pos[j, 1], pos[j_parent, 1]]))\n",
    "                    lines_3d[n][j-1][0].set_3d_properties(np.array([pos[j, 2], pos[j_parent, 2]]), zdir='y')\n",
    "                else:\n",
    "                    lines_3d[n][j-1][0].set_color(\"white\")\n",
    "                    lines_3d[n][j-1][0].set_xdata(np.array([0, 0]))\n",
    "                    lines_3d[n][j-1][0].set_ydata(np.array([0, 0]))\n",
    "                    lines_3d[n][j-1][0].set_3d_properties(np.array([0, 0]), zdir='y')\n",
    "            \n",
    "            # ADDED BONES\n",
    "            if keypoints[i, 11, 2] != 0 and keypoints[i, 12, 2] != 0:\n",
    "                lines[len(lines)-2][0].set_color('pink')\n",
    "                extra_parent = 12\n",
    "                lines[len(lines)-2][0].set_data([keypoints[i, 11, 0], keypoints[i, extra_parent, 0]],\n",
    "                                            [keypoints[i, 11, 1], keypoints[i, extra_parent, 1]])\n",
    "            if  keypoints[i, 5, 2] != 0 and keypoints[i, 6, 2] != 0:\n",
    "                lines[len(lines)-1][0].set_color('pink')\n",
    "                extra_parent = 6\n",
    "                lines[len(lines)-1][0].set_data([keypoints[i, 5, 0], keypoints[i, extra_parent, 0]],\n",
    "                                            [keypoints[i, 5, 1], keypoints[i, extra_parent, 1]])\n",
    "                        \n",
    "            if keypoints[i, 11, 2] != 0 and keypoints[i, 12, 2] != 0:\n",
    "                extra_parent = 12\n",
    "                lines_3d[n][len(lines_3d[n])-2][0].set_color(\"blue\")\n",
    "                lines_3d[n][len(lines_3d[n])-2][0].set_xdata(np.array([pos[11, 0], pos[extra_parent, 0]]))\n",
    "                lines_3d[n][len(lines_3d[n])-2][0].set_ydata(-np.array([pos[11, 1], pos[extra_parent, 1]]))\n",
    "                lines_3d[n][len(lines_3d[n])-2][0].set_3d_properties(np.array([pos[11, 2], pos[extra_parent, 2]]), zdir='y')\n",
    "                        \n",
    "            if  keypoints[i, 5, 2] != 0 and keypoints[i, 6, 2] != 0:\n",
    "                extra_parent = 6\n",
    "                lines_3d[n][len(lines_3d[n])-1][0].set_color(\"blue\")\n",
    "                lines_3d[n][len(lines_3d[n])-1][0].set_xdata(np.array([pos[5, 0], pos[extra_parent, 0]]))\n",
    "                lines_3d[n][len(lines_3d[n])-1][0].set_ydata(-np.array([pos[5, 1], pos[extra_parent, 1]]))\n",
    "                lines_3d[n][len(lines_3d[n])-1][0].set_3d_properties(np.array([pos[5, 2], pos[extra_parent, 2]]), zdir='y')\n",
    "                      \n",
    "            points.set_offsets(keypoints[i, :, :2])\n",
    "            \n",
    "        \n",
    "        print('{}/{}      '.format(i, limit), end='\\r')\n",
    "        \n",
    "\n",
    "    fig.tight_layout()\n",
    "    print(\"Limit: \", limit)\n",
    "    anim = FuncAnimation(fig, update_video, frames=np.arange(0, limit-1), interval=1000/fps, repeat=False)\n",
    "    if output.endswith('.mp4'):\n",
    "        from IPython.display import HTML\n",
    "        HTML(anim.to_html5_video())  \n",
    "        Writer = writers['ffmpeg']\n",
    "        writer = Writer(fps=fps, metadata={}, bitrate=bitrate)\n",
    "        plt.show()\n",
    "        anim.save(output, writer=writer)\n",
    "    elif output.endswith('.gif'):\n",
    "        plt.show()\n",
    "        anim.save(output, dpi=80, writer='imagemagick')\n",
    "    else:\n",
    "        raise ValueError('Unsupported output format (only .mp4 and .gif are supported)')\n",
    "    plt.close()\n",
    "    \n",
    "    "
   ]
  },
  {
   "cell_type": "markdown",
   "metadata": {},
   "source": [
    "### Visualize the groundtruth"
   ]
  },
  {
   "cell_type": "code",
   "execution_count": 5,
   "metadata": {},
   "outputs": [],
   "source": [
    "START_FRAME = 0\n",
    "N_FRAMES = 200"
   ]
  },
  {
   "cell_type": "code",
   "execution_count": 6,
   "metadata": {},
   "outputs": [],
   "source": [
    "# Consider dataset\n",
    "dataset = read_json(\"vp1_coco_format.json\")\n",
    "npz_2d_dataset = read_json(\"data_2d_dad_gt_train.npz\")\n",
    "npz_3d_dataset = read_json(\"data_3d_dad_train.npz\")"
   ]
  },
  {
   "cell_type": "code",
   "execution_count": 7,
   "metadata": {},
   "outputs": [
    {
     "name": "stdout",
     "output_type": "stream",
     "text": [
      "200\n",
      "(200, 17, 3)\n"
     ]
    }
   ],
   "source": [
    "# images\n",
    "images_list =[dataset[\"images\"][i][\"file_name\"] for i in range(START_FRAME, START_FRAME + N_FRAMES)]\n",
    "print(len(images_list))\n",
    "\n",
    "# keypoints 2d\n",
    "keypoints_2d = np.array([[dataset[\"annotations\"][i][\"keypoints\"]] for i in range(START_FRAME, START_FRAME + N_FRAMES)])\n",
    "keypoints_2d = np.reshape(keypoints_2d, (N_FRAMES, 17, 3))\n",
    "print(keypoints_2d.shape)\n",
    "\n",
    "# keypoints 3d\n",
    "poses_3d = np.array([[dataset[\"annotations\"][i][\"keypoints_3d\"]] for i in range(START_FRAME, START_FRAME + N_FRAMES)])\n",
    "poses_3d = np.reshape(poses_3d, (1, N_FRAMES, 17, 3))\n",
    "\n",
    "skeleton = Skeleton(parents=[-1, 0, 0, 1, 2, 0, 0, 5, 6, 7, 8, 5, 6, 11, 12, 13, 14], \n",
    "                    joints_left=[1, 3, 5, 7, 9, 11, 13, 15], \n",
    "                    joints_right=[2, 4, 6, 8, 10, 12, 14, 16])"
   ]
  },
  {
   "cell_type": "code",
   "execution_count": 14,
   "metadata": {},
   "outputs": [
    {
     "name": "stdout",
     "output_type": "stream",
     "text": [
      "frames length:  (200, 1024, 1280, 3) 200 (1024, 1280, 3)\n",
      "\n",
      "Limit:  200\n"
     ]
    },
    {
     "name": "stderr",
     "output_type": "stream",
     "text": [
      "/tmp/ipykernel_37780/3377187794.py:221: UserWarning: Tight layout not applied. The left and right margins cannot be made large enough to accommodate all axes decorations.\n",
      "  fig.tight_layout()\n"
     ]
    },
    {
     "name": "stdout",
     "output_type": "stream",
     "text": [
      "198/200      \r"
     ]
    }
   ],
   "source": [
    "render_animation(keypoints_2d, poses_3d, images_list, skeleton, \n",
    "                     output='rendering/vp1_visu_test_azim_250.mp4',\n",
    "                     datapath='/datasets_local/DriveAndAct', \n",
    "                     skip=0, fps=30, downsample=1, size=6, azim=250, bitrate=-1, limit=200)"
   ]
  },
  {
   "cell_type": "code",
   "execution_count": null,
   "metadata": {},
   "outputs": [],
   "source": [
    "\n",
    "def render_image(keypoints, poses_3d, images_list, skeleton, \n",
    "                     output='output.png',\n",
    "                     datapath='/datasets_local/DriveAndAct', \n",
    "                     skip=0, fps=30, downsample=3, size=6, azim=180, i=100, elev=15., title=\"Json\"):\n",
    "    \n",
    "    plt.ioff()\n",
    "    fig = plt.figure(figsize=(size*(1 + len(poses_3d)), size))\n",
    "    ax_in = fig.add_subplot(1, 1 + len(poses_3d), 1)\n",
    "    ax_in.get_xaxis().set_visible(False)\n",
    "    ax_in.get_yaxis().set_visible(False)\n",
    "    ax_in.set_axis_off()\n",
    "    ax_in.set_title('Input')\n",
    "\n",
    "    ax_3d = []\n",
    "    lines_3d = []\n",
    "    trajectories = []\n",
    "    all_frames = images_list\n",
    "    radius = 1.7\n",
    "    # for index, (data) in enumerate(poses_3d[0]): #.items()\n",
    "    ax = fig.add_subplot(1, 1 + len(poses_3d), 2, projection='3d')\n",
    "    ax.view_init(elev=elev, azim=azim)\n",
    "    # ax.set_xlim3d([-radius/2, radius/2])\n",
    "    ax.set_ylim3d([0, radius])\n",
    "    ax.set_xlim3d([0, radius])\n",
    "    ax.set_zlim3d([-radius/2, radius/2])\n",
    "    try:\n",
    "        ax.set_aspect('equal')\n",
    "    except NotImplementedError:\n",
    "        ax.set_aspect('auto')\n",
    "    ax.set_xticklabels([])\n",
    "    ax.set_yticklabels([])\n",
    "    ax.set_zticklabels([])\n",
    "    ax.dist = 7.5\n",
    "    ax.set_title(\"Ground truth\") #, pad=35\n",
    "    ax_3d.append(ax)\n",
    "    lines_3d.append([])\n",
    "   \n",
    "        \n",
    "    poses_3d = list(poses_3d)\n",
    "    print(\"frames length: \", np.array(all_frames).shape, len(all_frames),)\n",
    "        \n",
    "        \n",
    "    initialized = False\n",
    "    image = None\n",
    "    lines = []\n",
    "    points = None\n",
    "    \n",
    "\n",
    "        \n",
    "    parents = skeleton.parents()\n",
    "   \n",
    "        \n",
    "    joints_right_2d = [2, 4, 6, 8, 10, 12, 14, 16]\n",
    "    colors_2d = np.full(keypoints.shape[1], 'black')\n",
    "    colors_2d[joints_right_2d] = 'red'\n",
    "\n",
    "    image = ax_in.imshow(plt.imread(os.path.join(datapath, all_frames[i])), aspect='equal')\n",
    "            \n",
    "    for j, j_parent in enumerate(parents):\n",
    "        if j_parent == -1:\n",
    "            continue\n",
    "                    \n",
    "        if len(parents) == keypoints.shape[1]:\n",
    "            # Draw skeleton only if keypoints match (otherwise we don't have the parents definition)\n",
    "            if keypoints[i, j, 2] != 0 and keypoints[i, j_parent, 2] != 0 :\n",
    "                ax_in.plot([keypoints[i, j, 0], keypoints[i, j_parent, 0]],\n",
    "                                        [keypoints[i, j, 1], keypoints[i, j_parent, 1]], c='pink')\n",
    "                if j == 11 and keypoints[i, 12, 2] != 0:\n",
    "                    extra_parent = 12\n",
    "                    ax_in.plot([keypoints[i, j, 0], keypoints[i, extra_parent, 0]],\n",
    "                                            [keypoints[i, j, 1], keypoints[i, extra_parent, 1]],  c='deeppink')\n",
    "                if j == 5 and keypoints[i, 6, 2] != 0:\n",
    "                    extra_parent = 6\n",
    "                    ax_in.plot([keypoints[i, j, 0], keypoints[i, extra_parent, 0]],\n",
    "                                            [keypoints[i, j, 1], keypoints[i, extra_parent, 1]], c='deeppink')\n",
    "          \n",
    "            else:\n",
    "                ax_in.plot([0, 0], [0, 0], color='blue')\n",
    "        col = 'red' if j in skeleton.joints_right() else 'black'\n",
    "        # for n, ax in enumerate(ax_3d):\n",
    "        n = 0\n",
    "        pos = poses_3d[n][i]\n",
    "        if keypoints[i, j, 2] != 0 and keypoints[i, j_parent, 2] != 0 :\n",
    "            ax.plot([-pos[j, 0], -pos[j_parent, 0]],[-pos[j, 1], -pos[j_parent, 1]],[-pos[j, 2], -pos[j_parent, 2]], zdir='y', c=col)\n",
    "            if j==11 and keypoints[i, 12, 2] != 0:\n",
    "                extra_parent = 12\n",
    "                ax.plot([-pos[j, 0], -pos[extra_parent, 0]],[-pos[j, 1], -pos[extra_parent, 1]],[-pos[j, 2], -pos[extra_parent, 2]], zdir='y', c=\"deeppink\")\n",
    "            if j==5 and keypoints[i, 6, 2] != 0:\n",
    "                extra_parent = 6\n",
    "                ax.plot([-pos[j, 0], -pos[extra_parent, 0]],[-pos[j, 1], -pos[extra_parent, 1]],[-pos[j, 2], -pos[extra_parent, 2]], zdir='y', c=\"deeppink\")\n",
    "        else:\n",
    "            ax.plot([0, 0], [0, 0], [0, 0], zdir='z', c=\"white\")\n",
    "\n",
    "        # points = ax_in.scatter(*keypoints[i, :2].T, c='red', s=10,  edgecolors='white', zorder=10) # replaced colors_2d\n",
    "\n",
    "    # fig.tight_layout()\n",
    "    plt.title(title)\n",
    "    plt.savefig('rendering/{}_image_{}.png'.format(title, i))\n",
    "    # plt.imshow(plt.imread(\"rendering/image_{}.png\"), aspect=\"auto\")\n",
    "    fig.show()   "
   ]
  },
  {
   "cell_type": "code",
   "execution_count": 38,
   "metadata": {},
   "outputs": [
    {
     "name": "stdout",
     "output_type": "stream",
     "text": [
      "\n",
      "<class 'dict'>\n",
      "(42126, 51)\n"
     ]
    }
   ],
   "source": [
    "npz_2d_dataset = read_json(\"data_2d_dad_gt_train.npz\")\n",
    "npz_3d_dataset = read_json(\"data_3d_dad_train.npz\")\n",
    "\n",
    "print()\n",
    "npz_2d_dataset = npz_2d_dataset[\"positions_2d\"].item()\n",
    "npz_3d_dataset = npz_3d_dataset['positions_3d'].item()\n",
    "\n",
    "print(type(npz_2d_dataset))\n",
    "npz_2d_dataset = npz_2d_dataset[\"vp1\"]['inner_mirror/vp1/run2_2018-05-29-14-33-44.ids_1']\n",
    "print(npz_2d_dataset.shape)\n",
    "\n",
    "npz_3d_dataset = npz_3d_dataset[\"vp1\"]['inner_mirror/vp1/run2_2018-05-29-14-33-44.ids_1']\n",
    "\n",
    "npz_2d_dataset = np.reshape(npz_2d_dataset, (len(npz_2d_dataset), 17, 3))\n",
    "npz_3d_dataset = np.reshape(npz_3d_dataset, (1, len(npz_3d_dataset), 17, 3))\n",
    "npz_2d_dataset = np.asarray(npz_2d_dataset, dtype=np.float64)\n",
    "npz_3d_dataset = np.asarray(npz_3d_dataset, dtype=np.float64)\n"
   ]
  },
  {
   "cell_type": "code",
   "execution_count": 20,
   "metadata": {},
   "outputs": [
    {
     "name": "stdout",
     "output_type": "stream",
     "text": [
      "frames length:  (200, 1024, 1280, 3) 200 (1024, 1280, 3)\n",
      "\n",
      "Limit:  200\n"
     ]
    },
    {
     "name": "stderr",
     "output_type": "stream",
     "text": [
      "/tmp/ipykernel_37780/3377187794.py:221: UserWarning: Tight layout not applied. The left and right margins cannot be made large enough to accommodate all axes decorations.\n",
      "  fig.tight_layout()\n"
     ]
    },
    {
     "name": "stdout",
     "output_type": "stream",
     "text": [
      "198/200      \r"
     ]
    }
   ],
   "source": [
    "render_animation(npz_2d_dataset, npz_3d_dataset, images_list, skeleton, \n",
    "                     output='rendering/NPZ_visu_test_azim_250.mp4',\n",
    "                     datapath='/datasets_local/DriveAndAct', \n",
    "                     skip=0, fps=30, downsample=1, size=6, azim=250, bitrate=-1, limit=200)"
   ]
  },
  {
   "cell_type": "code",
   "execution_count": 33,
   "metadata": {},
   "outputs": [
    {
     "name": "stdout",
     "output_type": "stream",
     "text": [
      "(4, 17, 2)\n",
      "(4, 17, 3)\n",
      "B shape\n",
      "[[[4.98097203e-01 8.37166122e-01 1.00000000e+00]\n",
      "  [2.35052729e-01 8.37509987e-01 1.00000000e+00]\n",
      "  [4.63349316e-01 3.22501867e-01 1.00000000e+00]\n",
      "  [1.88594002e-01 2.53902835e-02 1.00000000e+00]\n",
      "  [1.04923169e-01 5.48464896e-01 1.00000000e+00]\n",
      "  [1.80283771e-01 2.51391124e-01 1.00000000e+00]\n",
      "  [7.42479592e-02 2.75459540e-01 1.00000000e+00]\n",
      "  [7.41957881e-01 3.50805237e-01 1.00000000e+00]\n",
      "  [1.65611980e-01 5.77418652e-01 1.00000000e+00]\n",
      "  [6.35857557e-01 2.57727950e-01 1.00000000e+00]\n",
      "  [8.28338665e-01 2.40711215e-01 1.00000000e+00]\n",
      "  [3.76473594e-04 9.18833847e-01 1.00000000e+00]\n",
      "  [7.39872233e-01 2.92345451e-01 1.00000000e+00]\n",
      "  [2.12150094e-01 5.15867404e-01 1.00000000e+00]\n",
      "  [2.07971961e-01 7.20139890e-01 1.00000000e+00]\n",
      "  [1.93362532e-01 6.35813679e-05 1.00000000e+00]\n",
      "  [4.38384426e-01 1.01677267e-01 1.00000000e+00]]\n",
      "\n",
      " [[6.28484714e-01 6.20601475e-01 1.00000000e+00]\n",
      "  [8.97505636e-01 6.94838231e-01 1.00000000e+00]\n",
      "  [8.52576304e-01 8.21786538e-01 1.00000000e+00]\n",
      "  [8.09013282e-01 9.53348407e-01 1.00000000e+00]\n",
      "  [4.93297491e-01 9.46606367e-01 1.00000000e+00]\n",
      "  [7.75387033e-01 6.98512787e-01 1.00000000e+00]\n",
      "  [5.59530187e-01 1.32248980e-01 1.00000000e+00]\n",
      "  [2.15057039e-01 4.25057677e-01 1.00000000e+00]\n",
      "  [1.94372340e-01 8.60712359e-01 1.00000000e+00]\n",
      "  [5.93903326e-01 3.78697012e-01 1.00000000e+00]\n",
      "  [3.63867396e-01 9.40797462e-01 1.00000000e+00]\n",
      "  [8.50147095e-02 1.31160205e-01 1.00000000e+00]\n",
      "  [7.39847117e-01 1.17338843e-01 1.00000000e+00]\n",
      "  [8.47757494e-01 5.21404002e-01 1.00000000e+00]\n",
      "  [4.29919320e-01 5.51631280e-01 1.00000000e+00]\n",
      "  [7.58100216e-01 6.18903604e-01 1.00000000e+00]\n",
      "  [3.78269505e-01 3.73908328e-01 1.00000000e+00]]\n",
      "\n",
      " [[2.94636234e-01 1.96758742e-01 1.00000000e+00]\n",
      "  [8.49375447e-02 2.50379962e-01 1.00000000e+00]\n",
      "  [9.24520670e-01 3.73420297e-01 1.00000000e+00]\n",
      "  [5.03534590e-01 7.21215815e-02 1.00000000e+00]\n",
      "  [9.83294494e-01 8.00455384e-02 1.00000000e+00]\n",
      "  [7.80990060e-01 9.41516835e-01 1.00000000e+00]\n",
      "  [6.79973429e-01 8.63422899e-01 1.00000000e+00]\n",
      "  [4.05175743e-01 8.39099757e-01 1.00000000e+00]\n",
      "  [4.61452172e-01 1.98832414e-01 1.00000000e+00]\n",
      "  [2.82258232e-01 3.00860204e-01 1.00000000e+00]\n",
      "  [9.99199425e-01 7.24526269e-02 1.00000000e+00]\n",
      "  [8.65308804e-01 8.18260826e-01 1.00000000e+00]\n",
      "  [5.75714628e-01 6.41767938e-01 1.00000000e+00]\n",
      "  [4.55331626e-01 3.04044929e-01 1.00000000e+00]\n",
      "  [2.80307980e-01 7.55369857e-02 1.00000000e+00]\n",
      "  [8.56828990e-01 5.51473576e-01 1.00000000e+00]\n",
      "  [7.89933017e-01 2.00144528e-01 1.00000000e+00]]\n",
      "\n",
      " [[7.34893502e-02 9.55307320e-01 1.00000000e+00]\n",
      "  [4.85960768e-01 5.32906019e-01 1.00000000e+00]\n",
      "  [8.38251984e-01 3.42507074e-01 1.00000000e+00]\n",
      "  [8.34720580e-01 3.05655743e-01 1.00000000e+00]\n",
      "  [1.00176505e-01 5.61256980e-01 1.00000000e+00]\n",
      "  [8.65559470e-01 1.59713906e-01 1.00000000e+00]\n",
      "  [6.27669880e-01 2.54437095e-01 1.00000000e+00]\n",
      "  [6.43838569e-01 3.04811671e-01 1.00000000e+00]\n",
      "  [2.76730605e-01 3.78087769e-01 1.00000000e+00]\n",
      "  [9.47476739e-01 2.82451140e-01 1.00000000e+00]\n",
      "  [2.42155786e-02 7.61407508e-01 1.00000000e+00]\n",
      "  [7.11060180e-01 1.52675084e-01 1.00000000e+00]\n",
      "  [2.79448891e-01 2.92939076e-01 1.00000000e+00]\n",
      "  [9.31039954e-02 1.02269988e-01 1.00000000e+00]\n",
      "  [5.85002387e-01 3.60185686e-01 1.00000000e+00]\n",
      "  [9.97137437e-01 9.78770159e-01 1.00000000e+00]\n",
      "  [5.55745584e-02 8.43819666e-02 1.00000000e+00]]]\n"
     ]
    }
   ],
   "source": [
    "a = np.random.random((4, 17, 2))\n",
    "print(a.shape)\n",
    "b = np.ones((a.shape[0],a.shape[1],a.shape[2]+1)); \n",
    "b[:,:,:-1] = a\n",
    "print(b.shape)\n",
    "print(\"B shape\")\n",
    "print(b)"
   ]
  },
  {
   "cell_type": "code",
   "execution_count": 39,
   "metadata": {},
   "outputs": [
    {
     "name": "stdout",
     "output_type": "stream",
     "text": [
      "X shape:  (42126, 17, 2)\n"
     ]
    }
   ],
   "source": [
    "from common.camera import *\n",
    "X = npz_2d_dataset[..., :2].copy()\n",
    "npz_2d_dataset_trsf =  normalize_screen_coordinates(X,  w=1280, h=1024)\n",
    "npz_2d_dataset_trsf = image_coordinates(npz_2d_dataset_trsf, w=1280, h=1024)"
   ]
  },
  {
   "cell_type": "code",
   "execution_count": 40,
   "metadata": {},
   "outputs": [
    {
     "name": "stdout",
     "output_type": "stream",
     "text": [
      "(42126, 17, 3)\n"
     ]
    },
    {
     "data": {
      "text/plain": [
       "dtype('float64')"
      ]
     },
     "execution_count": 40,
     "metadata": {},
     "output_type": "execute_result"
    }
   ],
   "source": [
    "b = np.ones((npz_2d_dataset_trsf.shape[0],npz_2d_dataset_trsf.shape[1],npz_2d_dataset_trsf.shape[2]+1)); \n",
    "b[:,:,:-1] = npz_2d_dataset_trsf\n",
    "print(b.shape)\n",
    "b.dtype"
   ]
  },
  {
   "cell_type": "code",
   "execution_count": 41,
   "metadata": {},
   "outputs": [
    {
     "name": "stdout",
     "output_type": "stream",
     "text": [
      "frames length:  (200, 1024, 1280, 3) 200 (1024, 1280, 3)\n",
      "\n",
      "Limit:  200\n"
     ]
    },
    {
     "name": "stderr",
     "output_type": "stream",
     "text": [
      "/tmp/ipykernel_37780/3377187794.py:221: UserWarning: Tight layout not applied. The left and right margins cannot be made large enough to accommodate all axes decorations.\n",
      "  fig.tight_layout()\n"
     ]
    },
    {
     "name": "stdout",
     "output_type": "stream",
     "text": [
      "198/200      \r"
     ]
    }
   ],
   "source": [
    "render_animation(npz_2d_dataset, npz_3d_dataset, images_list, skeleton, \n",
    "                     output='rendering/NPZ_visu_test_azim_correct_input.mp4',\n",
    "                     datapath='/datasets_local/DriveAndAct', \n",
    "                     skip=0, fps=30, downsample=1, size=6, azim=250, bitrate=-1, limit=200)"
   ]
  },
  {
   "cell_type": "code",
   "execution_count": 43,
   "metadata": {},
   "outputs": [],
   "source": [
    "for i in range(len(b)):\n",
    "    for j in range(17):\n",
    "        if b[i, j, 0] == 0 and  b[i, j, 1] == 0:\n",
    "            b[i, j, 2] = 0"
   ]
  },
  {
   "cell_type": "code",
   "execution_count": 44,
   "metadata": {},
   "outputs": [
    {
     "name": "stdout",
     "output_type": "stream",
     "text": [
      "frames length:  (200, 1024, 1280, 3) 200 (1024, 1280, 3)\n",
      "\n",
      "Limit:  200\n"
     ]
    },
    {
     "name": "stderr",
     "output_type": "stream",
     "text": [
      "/tmp/ipykernel_37780/3377187794.py:221: UserWarning: Tight layout not applied. The left and right margins cannot be made large enough to accommodate all axes decorations.\n",
      "  fig.tight_layout()\n"
     ]
    },
    {
     "name": "stdout",
     "output_type": "stream",
     "text": [
      "198/200      \r"
     ]
    }
   ],
   "source": [
    "render_animation(b, npz_3d_dataset, images_list, skeleton, \n",
    "                     output='rendering/NPZ_visu_test_azim_unormalized_input.mp4',\n",
    "                     datapath='/datasets_local/DriveAndAct', \n",
    "                     skip=0, fps=30, downsample=1, size=6, azim=250, bitrate=-1, limit=200)"
   ]
  }
 ],
 "metadata": {
  "kernelspec": {
   "display_name": "Python 3.8.10 64-bit",
   "language": "python",
   "name": "python3"
  },
  "language_info": {
   "codemirror_mode": {
    "name": "ipython",
    "version": 3
   },
   "file_extension": ".py",
   "mimetype": "text/x-python",
   "name": "python",
   "nbconvert_exporter": "python",
   "pygments_lexer": "ipython3",
   "version": "3.8.10"
  },
  "orig_nbformat": 4,
  "vscode": {
   "interpreter": {
    "hash": "916dbcbb3f70747c44a77c7bcd40155683ae19c65e1c03b4aa3499c5328201f1"
   }
  }
 },
 "nbformat": 4,
 "nbformat_minor": 2
}
